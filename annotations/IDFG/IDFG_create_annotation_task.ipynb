{
 "cells": [
  {
   "cell_type": "code",
   "execution_count": 27,
   "metadata": {},
   "outputs": [
    {
     "name": "stdout",
     "output_type": "stream",
     "text": [
      "The autoreload extension is already loaded. To reload it, use:\n",
      "  %reload_ext autoreload\n"
     ]
    }
   ],
   "source": [
    "from IPython.core.interactiveshell import InteractiveShell\n",
    "InteractiveShell.ast_node_interactivity = 'last_expr'\n",
    "\n",
    "%load_ext autoreload\n",
    "%autoreload 2"
   ]
  },
  {
   "cell_type": "code",
   "execution_count": 22,
   "metadata": {},
   "outputs": [],
   "source": [
    "import numpy as np\n",
    "import pandas as pd\n",
    "import os\n",
    "import csv\n",
    "import shutil"
   ]
  },
  {
   "cell_type": "markdown",
   "metadata": {},
   "source": [
    "# Create annotation task - IDFG\n",
    "\n",
    "Find images that are labeled as containing animals and copy them to one folder and zip it."
   ]
  },
  {
   "cell_type": "code",
   "execution_count": 3,
   "metadata": {},
   "outputs": [],
   "source": [
    "eval_dir = '/home/yasiyu/yasiyu_temp/IDFG/IDFG_20190104/eval'"
   ]
  },
  {
   "cell_type": "code",
   "execution_count": 4,
   "metadata": {},
   "outputs": [],
   "source": [
    "folders = ['Beaverhead_elk', 'St.Joe_elk', 'ClearCreek_mustelids']\n",
    "num_to_sample = {\n",
    "    'Beaverhead_elk': None, \n",
    "    'St.Joe_elk': 5000,\n",
    "    'ClearCreek_mustelids': 5000,\n",
    "}"
   ]
  },
  {
   "cell_type": "markdown",
   "metadata": {},
   "source": [
    "Include all 31,621 images from Beaverhead_elk, and sample 5k from St_Joe_elk and ClearCreek_mustelids each."
   ]
  },
  {
   "cell_type": "code",
   "execution_count": 5,
   "metadata": {},
   "outputs": [],
   "source": [
    "detection_threshold = 0.9"
   ]
  },
  {
   "cell_type": "code",
   "execution_count": 6,
   "metadata": {},
   "outputs": [
    {
     "name": "stdout",
     "output_type": "stream",
     "text": [
      "eval_IDFG_Beaverhead_elk.csv\n",
      "(239910, 3)\n",
      "number of animals: 31621\n",
      "number of samples to include: 31621\n",
      "\n",
      "eval_IDFG_St_Joe_elk.csv\n",
      "(239006, 3)\n",
      "number of animals: 103394\n",
      "number of samples to include: 5000\n",
      "\n",
      "eval_IDFG_ClearCreek_mustelids.csv\n",
      "(199954, 3)\n",
      "number of animals: 140968\n",
      "number of samples to include: 5000\n",
      "\n"
     ]
    }
   ],
   "source": [
    "animal_images = []\n",
    "all_false_negatives = []\n",
    "all_false_positives = []\n",
    "for folder in folders:\n",
    "    folder_clean = folder.replace('.', '_')\n",
    "    csv_name = 'eval_IDFG_{}.csv'.format(folder_clean)\n",
    "    df = pd.read_csv(os.path.join(eval_dir, csv_name))\n",
    "    print(csv_name)\n",
    "    print(df.shape)\n",
    "    samples = df[df.label == True]['image_id']\n",
    "    print('number of animals:', len(samples))\n",
    "    \n",
    "    samples = samples\n",
    "    if num_to_sample[folder]:\n",
    "        n_samples = num_to_sample[folder]\n",
    "        samples = samples.sample(n_samples)\n",
    "    print('number of samples to include:', len(samples))\n",
    "    animal_images.extend(sorted(samples))\n",
    "    \n",
    "#    gt_positives = set(rows)\n",
    "    \n",
    "#     rows = df[df.pred > detection_threshold]['image_id']\n",
    "#     print('number of preds above 0.9 conf:', len(rows))\n",
    "#     preds_positives = set(rows)\n",
    "\n",
    "#     false_negatives = gt_positives.difference(preds_positives) # in gt_positives but not in preds_positives\n",
    "#     false_positives = preds_positives.difference(gt_positives) # in preds_positives but not in gt_positives\n",
    "#     print('number of false negatives:', len(false_negatives))\n",
    "#     print('number of false positives:', len(false_positives))\n",
    "#     all_false_negatives.append(false_negatives)\n",
    "#     all_false_positives.append(false_positives)\n",
    "    \n",
    "    print()"
   ]
  },
  {
   "cell_type": "code",
   "execution_count": 7,
   "metadata": {},
   "outputs": [
    {
     "data": {
      "text/plain": [
       "41621"
      ]
     },
     "execution_count": 7,
     "metadata": {},
     "output_type": "execute_result"
    }
   ],
   "source": [
    "len(animal_images)"
   ]
  },
  {
   "cell_type": "markdown",
   "metadata": {},
   "source": [
    "Add images from the other two folders that have high detection confidence."
   ]
  },
  {
   "cell_type": "code",
   "execution_count": 8,
   "metadata": {},
   "outputs": [],
   "source": [
    "results_dir = '/home/yasiyu/yasiyu_temp/IDFG/IDFG_20190104/results2'\n",
    "other_folders = ['Statewide_wolf', 'Focal_lion', 'CrowCreek_moose']"
   ]
  },
  {
   "cell_type": "code",
   "execution_count": 9,
   "metadata": {},
   "outputs": [
    {
     "name": "stdout",
     "output_type": "stream",
     "text": [
      "folder: Statewide_wolf\n",
      "detection_threshold: 0.9\n",
      "number of high confidence detection images: 552627\n",
      "number of samples included: 5000\n",
      "\n",
      "folder: Focal_lion\n",
      "detection_threshold: 0.9\n",
      "number of high confidence detection images: 97965\n",
      "number of samples included: 5000\n",
      "\n",
      "folder: CrowCreek_moose\n",
      "detection_threshold: 0.99\n",
      "number of high confidence detection images: 18056\n",
      "number of samples included: 5000\n",
      "\n"
     ]
    }
   ],
   "source": [
    "num_images_to_take = 5000\n",
    "\n",
    "for folder in other_folders:\n",
    "    folder_clean = folder.replace('.', '_')\n",
    "    csv_name = 'IDFG_{}.csv'.format(folder_clean)\n",
    "    df = pd.read_csv(os.path.join(results_dir, csv_name))\n",
    "    \n",
    "    detection_threshold = 0.9\n",
    "    if folder == 'CrowCreek_moose':\n",
    "        detection_threshold = 0.99\n",
    "    \n",
    "    samples = df[df.max_confidence > detection_threshold]['image_path']\n",
    "    print('folder:', folder)\n",
    "    print('detection_threshold:', detection_threshold)\n",
    "    print('number of high confidence detection images:', len(samples))\n",
    "    \n",
    "    if len(samples) > num_images_to_take:\n",
    "        samples = samples.sample(num_images_to_take)\n",
    "    \n",
    "    print('number of samples included: {}'.format(len(samples)))\n",
    "    animal_images.extend(sorted(samples))\n",
    "    print()"
   ]
  },
  {
   "cell_type": "code",
   "execution_count": 13,
   "metadata": {},
   "outputs": [
    {
     "data": {
      "text/plain": [
       "56621"
      ]
     },
     "execution_count": 13,
     "metadata": {},
     "output_type": "execute_result"
    }
   ],
   "source": [
    "len(animal_images)"
   ]
  },
  {
   "cell_type": "code",
   "execution_count": 12,
   "metadata": {},
   "outputs": [
    {
     "data": {
      "text/plain": [
       "'Focal_lion/56/101RECNX/IMG_1912.JPG'"
      ]
     },
     "execution_count": 12,
     "metadata": {},
     "output_type": "execute_result"
    }
   ],
   "source": [
    "animal_images[-6000]"
   ]
  },
  {
   "cell_type": "code",
   "execution_count": null,
   "metadata": {},
   "outputs": [],
   "source": [
    "save_path = '/home/yasiyu/yasiyu_temp/IDFG/IDFG_20190104/IDFG_20190104_images_to_annotate.csv'\n",
    "with open(save_path, 'w') as f:\n",
    "    writer = csv.writer(f)\n",
    "    for image_id in animal_images:\n",
    "        writer.writerow([image_id])"
   ]
  },
  {
   "cell_type": "markdown",
   "metadata": {},
   "source": [
    "## Copy images to local and then zip them"
   ]
  },
  {
   "cell_type": "code",
   "execution_count": 17,
   "metadata": {},
   "outputs": [],
   "source": [
    "with open(save_path, 'r') as f:\n",
    "    reader = csv.reader(f)\n",
    "    animal_images = list(reader)"
   ]
  },
  {
   "cell_type": "code",
   "execution_count": 18,
   "metadata": {},
   "outputs": [
    {
     "data": {
      "text/plain": [
       "56621"
      ]
     },
     "execution_count": 18,
     "metadata": {},
     "output_type": "execute_result"
    }
   ],
   "source": [
    "len(animal_images)"
   ]
  },
  {
   "cell_type": "code",
   "execution_count": 19,
   "metadata": {},
   "outputs": [
    {
     "data": {
      "text/plain": [
       "['Focal_lion/56/101RECNX/IMG_1912.JPG']"
      ]
     },
     "execution_count": 19,
     "metadata": {},
     "output_type": "execute_result"
    }
   ],
   "source": [
    "animal_images[-6000]"
   ]
  },
  {
   "cell_type": "code",
   "execution_count": 21,
   "metadata": {},
   "outputs": [],
   "source": [
    "dest = '/datadrive/IDFG/IDFG_20190104_images_to_annotate'\n",
    "origin = '/home/yasiyu/mnt/wildlifeblobssc/idfg'"
   ]
  },
  {
   "cell_type": "code",
   "execution_count": null,
   "metadata": {},
   "outputs": [],
   "source": [
    "failed_images = []\n",
    "\n",
    "for i, image_id in enumerate(animal_images):\n",
    "    image_id = image_id[0]\n",
    "    dest_image_id = image_id.replace('/', '*')\n",
    "    \n",
    "    origin_path = os.path.join(origin, image_id)\n",
    "    dest_path = os.path.join(dest, dest_image_id)\n",
    "    \n",
    "    if not os.path.exists(dest_path):\n",
    "        try:\n",
    "            shutil.copyfile(origin_path, dest_path)\n",
    "        except Exception as e:\n",
    "            print('Image {}, exception: {}'.format(image_id, str(e)))\n",
    "            failed_images.append(image_id)\n",
    "    \n",
    "    if i % 2000 == 0:\n",
    "        print(i/56621)"
   ]
  },
  {
   "cell_type": "code",
   "execution_count": null,
   "metadata": {},
   "outputs": [],
   "source": [
    "!azcopy \\\n",
    "    --source /home/yasiyu/yasiyu_temp/IDFG/IDFG_20190104/IDFG_20190104_images_to_annotate.csv \\\n",
    "    --destination https://ai4edevshare.file.core.windows.net/ai4edevfs/annotations/outgoing_requests/IDFG_20190104_images_to_annotate.csv \\\n",
    "    --dest-key "
   ]
  }
 ],
 "metadata": {
  "kernelspec": {
   "display_name": "Python [conda env:py35]",
   "language": "python",
   "name": "conda-env-py35-py"
  },
  "language_info": {
   "codemirror_mode": {
    "name": "ipython",
    "version": 3
   },
   "file_extension": ".py",
   "mimetype": "text/x-python",
   "name": "python",
   "nbconvert_exporter": "python",
   "pygments_lexer": "ipython3",
   "version": "3.5.5"
  }
 },
 "nbformat": 4,
 "nbformat_minor": 2
}
